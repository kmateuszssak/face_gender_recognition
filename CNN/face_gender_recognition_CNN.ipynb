{
 "cells": [
  {
   "cell_type": "code",
   "execution_count": 1,
   "metadata": {},
   "outputs": [
    {
     "name": "stderr",
     "output_type": "stream",
     "text": [
      "Using TensorFlow backend.\n"
     ]
    }
   ],
   "source": [
    "import os\n",
    "import pickle\n",
    "\n",
    "import numpy as np\n",
    "import pandas as pd\n",
    "import matplotlib\n",
    "import random\n",
    "import cv2\n",
    "\n",
    "from matplotlib import pyplot as plt\n",
    "from sklearn import metrics\n",
    "from sklearn.model_selection import train_test_split\n",
    "from keras import regularizers, optimizers, layers, models, constraints \n",
    "from IPython.display import display\n",
    "from tqdm import tqdm\n",
    "\n",
    "random.seed()\n",
    "\n",
    "%matplotlib inline\n",
    "matplotlib.style.use('ggplot')"
   ]
  },
  {
   "cell_type": "code",
   "execution_count": 2,
   "metadata": {
    "collapsed": true
   },
   "outputs": [],
   "source": [
    "LFW_VS_LFW_DEEPFUNNELED = 'lfw-deepfunneled'\n",
    "INPUT_DATA = 'output_data'\n"
   ]
  },
  {
   "cell_type": "code",
   "execution_count": 3,
   "metadata": {
    "collapsed": true
   },
   "outputs": [],
   "source": [
    "# NN PARAMETERS\n",
    "EPOCHS = 20\n",
    "BATCH_SIZE = 100\n",
    "LEARNING_RATE = 0.02\n",
    "NUMBER_OF_NEURONS = 1024\n",
    "REGULARIZATION_LAMBDA = 0.1\n",
    "\n",
    "# CONVOLUTION PARAMETERS\n",
    "IMG_SIZE = 160\n",
    "CHANNELS = 3\n",
    "NUM_OF_FEMALES = 3000\n",
    "NUM_OF_MALES = 3000"
   ]
  },
  {
   "cell_type": "code",
   "execution_count": 4,
   "metadata": {
    "collapsed": true
   },
   "outputs": [],
   "source": [
    "def jj(*args):\n",
    "    return os.path.join(*args)\n",
    "\n",
    "def open_image(full_image_name):\n",
    "#     return Image.open(full_image_name)\n",
    "    flag = 1 if CHANNELS == 3 else 0\n",
    "    return cv2.imread(full_image_name, flag)\n",
    "\n",
    "def resize(img):\n",
    "    return cv2.resize(img, (IMG_SIZE, IMG_SIZE))\n",
    "\n",
    "def convert_to_array(img):\n",
    "    return np.array(img, ndmin=3)\n",
    "\n",
    "def get_gender_dataset(gender, number_of_imgs):\n",
    "    faces_list = []\n",
    "    for img_name in tqdm(os.listdir(jj(INPUT_DATA, LFW_VS_LFW_DEEPFUNNELED))):\n",
    "        if img_name.startswith(gender):\n",
    "            path = jj(INPUT_DATA, LFW_VS_LFW_DEEPFUNNELED, img_name)\n",
    "            img = open_image(path)\n",
    "            resized_img = resize(img)\n",
    "            array = convert_to_array(resized_img)\n",
    "            label = 0 if gender == 'f' else 1\n",
    "            faces_list.append((array, label))\n",
    "\n",
    "    random.shuffle(faces_list)\n",
    "\n",
    "    return faces_list[:number_of_imgs]\n",
    "\n",
    "def get_dataset():\n",
    "    females = get_gender_dataset('f', NUM_OF_FEMALES)\n",
    "    males = get_gender_dataset('m', NUM_OF_MALES)\n",
    "    dataset = females + males\n",
    "    random.shuffle(dataset)\n",
    "    \n",
    "    return dataset\n"
   ]
  },
  {
   "cell_type": "code",
   "execution_count": 5,
   "metadata": {
    "scrolled": true
   },
   "outputs": [
    {
     "name": "stderr",
     "output_type": "stream",
     "text": [
      "100%|███████████████████████████████████| 13233/13233 [00:13<00:00, 953.78it/s]\n",
      "100%|███████████████████████████████████| 13233/13233 [00:36<00:00, 360.11it/s]\n"
     ]
    },
    {
     "data": {
      "text/plain": [
       "5965"
      ]
     },
     "execution_count": 5,
     "metadata": {},
     "output_type": "execute_result"
    }
   ],
   "source": [
    "# Create dataset: [(np.array(), np.array()), (...), ...]\n",
    "# CREATED ONCE, TEST DATASET MUST BE UNTOUCH!\n",
    "\n",
    "# dataset = get_dataset()\n",
    "# len(dataset)\n"
   ]
  },
  {
   "cell_type": "code",
   "execution_count": 6,
   "metadata": {
    "collapsed": true
   },
   "outputs": [],
   "source": [
    "# Split dataset on train_and_validation dataset and test dataset\n",
    "# CREATED ONCE, TEST DATASET MUST BE UNTOUCH!\n",
    "\n",
    "# train_and_validation, test = train_test_split(dataset, test_size = 0.2, random_state = 0)\n",
    "# x_test = np.asarray([i[0] for i in test])/255\n",
    "# y_test = np.asarray([i[1] for i in test])\n",
    "\n",
    "# WRITE DATASETS\n",
    "# pickle.dump(train_and_validation, open(\"train_and_validation.data\", \"wb\"))\n",
    "# pickle.dump(test, open(\"test.data\", \"wb\"))\n",
    "\n",
    "# READA DATASETS\n",
    "train_and_validation = pickle.load(open(\"train_and_validation.data\", \"rb\"))\n",
    "test = pickle.load(open(\"test.data\", \"rb\"))\n"
   ]
  },
  {
   "cell_type": "code",
   "execution_count": 7,
   "metadata": {
    "collapsed": true
   },
   "outputs": [],
   "source": [
    "train, validation = train_test_split(train_and_validation, test_size = 0.25, random_state = 0)\n",
    "\n",
    "x_train = np.asarray([i[0] for i in train])/255\n",
    "y_train = np.asarray([i[1] for i in train])\n",
    "\n",
    "x_validation = np.asarray([i[0] for i in validation])/255\n",
    "y_validation = np.asarray([i[1] for i in validation])"
   ]
  },
  {
   "cell_type": "code",
   "execution_count": 8,
   "metadata": {
    "collapsed": true
   },
   "outputs": [],
   "source": [
    "# Pot loss\n",
    "def show_loss(history):   \n",
    "    x_axis = range(0, EPOCHS)\n",
    "    fig, ax = plt.subplots()\n",
    "    ax.plot(x_axis, history.history['loss'], label='train_loss')\n",
    "    ax.plot(x_axis, history.history['val_loss'], label='val_loss')\n",
    "    ax.legend()\n",
    "    plt.ylabel('Log loss')\n",
    "    plt.xlabel('epoch number')\n",
    "    plt.title('loss vs epoch number')\n",
    "    \n",
    "    plt.show()"
   ]
  },
  {
   "cell_type": "code",
   "execution_count": 9,
   "metadata": {
    "scrolled": true
   },
   "outputs": [
    {
     "name": "stdout",
     "output_type": "stream",
     "text": [
      "Train on 3340 samples, validate on 1432 samples\n",
      "Epoch 1/30\n",
      "3340/3340 [==============================] - ETA: 738s - loss: 207.1821 - acc: 0.460 - ETA: 516s - loss: 206.3589 - acc: 0.515 - ETA: 435s - loss: 205.5435 - acc: 0.516 - ETA: 372s - loss: 204.7204 - acc: 0.537 - ETA: 332s - loss: 203.9058 - acc: 0.532 - ETA: 305s - loss: 203.0986 - acc: 0.520 - ETA: 283s - loss: 202.3024 - acc: 0.505 - ETA: 266s - loss: 201.4791 - acc: 0.511 - ETA: 246s - loss: 200.6658 - acc: 0.511 - ETA: 231s - loss: 199.8560 - acc: 0.521 - ETA: 216s - loss: 199.0540 - acc: 0.519 - ETA: 205s - loss: 198.2525 - acc: 0.535 - ETA: 194s - loss: 197.4562 - acc: 0.546 - ETA: 182s - loss: 196.6664 - acc: 0.550 - ETA: 171s - loss: 195.8861 - acc: 0.550 - ETA: 160s - loss: 195.1127 - acc: 0.555 - ETA: 149s - loss: 194.3453 - acc: 0.561 - ETA: 140s - loss: 193.5837 - acc: 0.562 - ETA: 129s - loss: 192.8271 - acc: 0.568 - ETA: 120s - loss: 192.0759 - acc: 0.574 - ETA: 109s - loss: 191.3314 - acc: 0.571 - ETA: 100s - loss: 190.5928 - acc: 0.571 - ETA: 91s - loss: 189.8574 - acc: 0.573 - ETA: 82s - loss: 189.1268 - acc: 0.57 - ETA: 73s - loss: 188.4006 - acc: 0.58 - ETA: 64s - loss: 187.6780 - acc: 0.58 - ETA: 55s - loss: 186.9576 - acc: 0.58 - ETA: 46s - loss: 186.2397 - acc: 0.59 - ETA: 37s - loss: 185.5238 - acc: 0.60 - ETA: 29s - loss: 184.8127 - acc: 0.60 - ETA: 20s - loss: 184.1047 - acc: 0.60 - ETA: 11s - loss: 183.4007 - acc: 0.60 - ETA: 3s - loss: 182.6995 - acc: 0.5979 - 324s - loss: 182.4151 - acc: 0.5979 - val_loss: 157.6715 - val_acc: 0.7235\n",
      "Epoch 2/30\n",
      "3340/3340 [==============================] - ETA: 318s - loss: 157.6721 - acc: 0.730 - ETA: 272s - loss: 157.0700 - acc: 0.670 - ETA: 256s - loss: 156.4480 - acc: 0.666 - ETA: 244s - loss: 155.8109 - acc: 0.662 - ETA: 233s - loss: 155.1928 - acc: 0.678 - ETA: 223s - loss: 154.5789 - acc: 0.678 - ETA: 218s - loss: 153.9723 - acc: 0.680 - ETA: 208s - loss: 153.3712 - acc: 0.667 - ETA: 199s - loss: 152.7636 - acc: 0.682 - ETA: 192s - loss: 152.1706 - acc: 0.678 - ETA: 186s - loss: 151.5894 - acc: 0.660 - ETA: 177s - loss: 151.0023 - acc: 0.644 - ETA: 169s - loss: 150.4128 - acc: 0.651 - ETA: 161s - loss: 149.8277 - acc: 0.659 - ETA: 152s - loss: 149.2490 - acc: 0.664 - ETA: 143s - loss: 148.6735 - acc: 0.668 - ETA: 135s - loss: 148.1032 - acc: 0.665 - ETA: 126s - loss: 147.5341 - acc: 0.671 - ETA: 117s - loss: 146.9700 - acc: 0.671 - ETA: 109s - loss: 146.4065 - acc: 0.676 - ETA: 101s - loss: 145.8471 - acc: 0.673 - ETA: 93s - loss: 145.2878 - acc: 0.677 - ETA: 84s - loss: 144.7314 - acc: 0.67 - ETA: 76s - loss: 144.1778 - acc: 0.67 - ETA: 68s - loss: 143.6220 - acc: 0.68 - ETA: 60s - loss: 143.0683 - acc: 0.68 - ETA: 52s - loss: 142.5194 - acc: 0.67 - ETA: 44s - loss: 141.9707 - acc: 0.68 - ETA: 36s - loss: 141.4254 - acc: 0.68 - ETA: 27s - loss: 140.8845 - acc: 0.68 - ETA: 19s - loss: 140.3470 - acc: 0.68 - ETA: 11s - loss: 139.8132 - acc: 0.68 - ETA: 3s - loss: 139.2813 - acc: 0.6855 - 312s - loss: 139.0655 - acc: 0.6868 - val_loss: 120.4062 - val_acc: 0.6983\n",
      "Epoch 3/30\n",
      "3340/3340 [==============================] - ETA: 234s - loss: 120.3937 - acc: 0.700 - ETA: 225s - loss: 119.9182 - acc: 0.690 - ETA: 222s - loss: 119.4591 - acc: 0.700 - ETA: 218s - loss: 118.9682 - acc: 0.707 - ETA: 208s - loss: 118.4925 - acc: 0.696 - ETA: 201s - loss: 118.0177 - acc: 0.690 - ETA: 194s - loss: 117.5361 - acc: 0.690 - ETA: 186s - loss: 117.0626 - acc: 0.690 - ETA: 178s - loss: 116.5859 - acc: 0.706 - ETA: 171s - loss: 116.1126 - acc: 0.708 - ETA: 164s - loss: 115.6409 - acc: 0.711 - ETA: 158s - loss: 115.1775 - acc: 0.709 - ETA: 153s - loss: 114.7349 - acc: 0.696 - ETA: 148s - loss: 114.2926 - acc: 0.682 - ETA: 141s - loss: 113.8438 - acc: 0.691 - ETA: 133s - loss: 113.3986 - acc: 0.693 - ETA: 126s - loss: 112.9569 - acc: 0.695 - ETA: 118s - loss: 112.5159 - acc: 0.699 - ETA: 110s - loss: 112.0793 - acc: 0.701 - ETA: 103s - loss: 111.6445 - acc: 0.704 - ETA: 96s - loss: 111.2114 - acc: 0.706 - ETA: 88s - loss: 110.7788 - acc: 0.71 - ETA: 80s - loss: 110.3494 - acc: 0.71 - ETA: 72s - loss: 109.9246 - acc: 0.71 - ETA: 65s - loss: 109.4998 - acc: 0.71 - ETA: 57s - loss: 109.0811 - acc: 0.70 - ETA: 49s - loss: 108.6619 - acc: 0.70 - ETA: 41s - loss: 108.2413 - acc: 0.70 - ETA: 33s - loss: 107.8236 - acc: 0.71 - ETA: 26s - loss: 107.4076 - acc: 0.71 - ETA: 18s - loss: 106.9938 - acc: 0.71 - ETA: 10s - loss: 106.5795 - acc: 0.71 - ETA: 3s - loss: 106.1695 - acc: 0.7188 - 297s - loss: 106.0037 - acc: 0.7192 - val_loss: 91.6120 - val_acc: 0.7675\n",
      "Epoch 4/30\n",
      "3340/3340 [==============================] - ETA: 220s - loss: 91.5727 - acc: 0.77 - ETA: 219s - loss: 91.2613 - acc: 0.73 - ETA: 211s - loss: 90.9363 - acc: 0.73 - ETA: 204s - loss: 90.5738 - acc: 0.74 - ETA: 199s - loss: 90.2140 - acc: 0.74 - ETA: 196s - loss: 89.8633 - acc: 0.74 - ETA: 190s - loss: 89.5131 - acc: 0.74 - ETA: 184s - loss: 89.1642 - acc: 0.74 - ETA: 179s - loss: 88.8269 - acc: 0.74 - ETA: 174s - loss: 88.4913 - acc: 0.73 - ETA: 168s - loss: 88.1471 - acc: 0.73 - ETA: 160s - loss: 87.8001 - acc: 0.73 - ETA: 152s - loss: 87.4552 - acc: 0.73 - ETA: 143s - loss: 87.1098 - acc: 0.74 - ETA: 135s - loss: 86.7677 - acc: 0.74 - ETA: 128s - loss: 86.4248 - acc: 0.74 - ETA: 120s - loss: 86.0863 - acc: 0.74 - ETA: 113s - loss: 85.7529 - acc: 0.73 - ETA: 106s - loss: 85.4179 - acc: 0.73 - ETA: 99s - loss: 85.0832 - acc: 0.7420 - ETA: 92s - loss: 84.7523 - acc: 0.742 - ETA: 84s - loss: 84.4231 - acc: 0.740 - ETA: 77s - loss: 84.0957 - acc: 0.743 - ETA: 70s - loss: 83.7698 - acc: 0.742 - ETA: 62s - loss: 83.4491 - acc: 0.740 - ETA: 55s - loss: 83.1310 - acc: 0.740 - ETA: 48s - loss: 82.8133 - acc: 0.738 - ETA: 40s - loss: 82.4974 - acc: 0.737 - ETA: 33s - loss: 82.1837 - acc: 0.736 - ETA: 25s - loss: 81.8684 - acc: 0.739 - ETA: 18s - loss: 81.5571 - acc: 0.740 - ETA: 10s - loss: 81.2483 - acc: 0.741 - ETA: 3s - loss: 80.9425 - acc: 0.738 - 292s - loss: 80.8180 - acc: 0.7386 - val_loss: 69.9737 - val_acc: 0.7919\n",
      "Epoch 5/30\n",
      "3340/3340 [==============================] - ETA: 265s - loss: 69.9465 - acc: 0.84 - ETA: 247s - loss: 69.6882 - acc: 0.80 - ETA: 235s - loss: 69.4286 - acc: 0.77 - ETA: 224s - loss: 69.1555 - acc: 0.77 - ETA: 217s - loss: 68.8847 - acc: 0.77 - ETA: 208s - loss: 68.5979 - acc: 0.79 - ETA: 200s - loss: 68.3326 - acc: 0.78 - ETA: 190s - loss: 68.0556 - acc: 0.78 - ETA: 182s - loss: 67.7933 - acc: 0.78 - ETA: 174s - loss: 67.5286 - acc: 0.77 - ETA: 166s - loss: 67.2665 - acc: 0.77 - ETA: 158s - loss: 67.0045 - acc: 0.76 - ETA: 150s - loss: 66.7438 - acc: 0.76 - ETA: 142s - loss: 66.4783 - acc: 0.77 - ETA: 134s - loss: 66.2162 - acc: 0.77 - ETA: 127s - loss: 65.9617 - acc: 0.77 - ETA: 120s - loss: 65.7062 - acc: 0.77 - ETA: 113s - loss: 65.4521 - acc: 0.77 - ETA: 106s - loss: 65.2009 - acc: 0.77 - ETA: 98s - loss: 64.9512 - acc: 0.7775 - ETA: 91s - loss: 64.7143 - acc: 0.771 - ETA: 85s - loss: 64.4702 - acc: 0.765 - ETA: 78s - loss: 64.2242 - acc: 0.763 - ETA: 71s - loss: 63.9778 - acc: 0.763 - ETA: 63s - loss: 63.7317 - acc: 0.764 - ETA: 56s - loss: 63.4843 - acc: 0.766 - ETA: 49s - loss: 63.2442 - acc: 0.763 - ETA: 41s - loss: 63.0007 - acc: 0.763 - ETA: 34s - loss: 62.7588 - acc: 0.763 - ETA: 26s - loss: 62.5178 - acc: 0.762 - ETA: 18s - loss: 62.2792 - acc: 0.761 - ETA: 10s - loss: 62.0393 - acc: 0.761 - ETA: 3s - loss: 61.8039 - acc: 0.760 - 299s - loss: 61.7091 - acc: 0.7593 - val_loss: 53.4005 - val_acc: 0.7479\n",
      "Epoch 6/30\n",
      "3340/3340 [==============================] - ETA: 241s - loss: 53.3458 - acc: 0.81 - ETA: 226s - loss: 53.1441 - acc: 0.80 - ETA: 215s - loss: 52.9530 - acc: 0.78 - ETA: 207s - loss: 52.7385 - acc: 0.77 - ETA: 198s - loss: 52.5399 - acc: 0.77 - ETA: 191s - loss: 52.3270 - acc: 0.78 - ETA: 183s - loss: 52.1197 - acc: 0.78 - ETA: 177s - loss: 51.9327 - acc: 0.77 - ETA: 171s - loss: 51.7242 - acc: 0.77 - ETA: 164s - loss: 51.5174 - acc: 0.78 - ETA: 156s - loss: 51.3135 - acc: 0.78 - ETA: 150s - loss: 51.1144 - acc: 0.78 - ETA: 142s - loss: 50.9125 - acc: 0.78 - ETA: 135s - loss: 50.7157 - acc: 0.77 - ETA: 128s - loss: 50.5147 - acc: 0.77 - ETA: 121s - loss: 50.3158 - acc: 0.77 - ETA: 114s - loss: 50.1242 - acc: 0.77 - ETA: 107s - loss: 49.9282 - acc: 0.76 - ETA: 100s - loss: 49.7315 - acc: 0.77 - ETA: 93s - loss: 49.5405 - acc: 0.7720 - ETA: 86s - loss: 49.3473 - acc: 0.774 - ETA: 79s - loss: 49.1607 - acc: 0.770 - ETA: 72s - loss: 48.9720 - acc: 0.771 - ETA: 65s - loss: 48.7859 - acc: 0.768 - ETA: 58s - loss: 48.5977 - acc: 0.769 - ETA: 51s - loss: 48.4145 - acc: 0.767 - ETA: 44s - loss: 48.2315 - acc: 0.767 - ETA: 37s - loss: 48.0487 - acc: 0.767 - ETA: 30s - loss: 47.8665 - acc: 0.768 - ETA: 23s - loss: 47.6826 - acc: 0.771 - ETA: 16s - loss: 47.5022 - acc: 0.770 - ETA: 9s - loss: 47.3203 - acc: 0.772 - ETA: 2s - loss: 47.1428 - acc: 0.77 - 271s - loss: 47.0710 - acc: 0.7725 - val_loss: 40.7454 - val_acc: 0.7870\n",
      "Epoch 7/30\n",
      "3340/3340 [==============================] - ETA: 224s - loss: 40.7392 - acc: 0.80 - ETA: 218s - loss: 40.6569 - acc: 0.72 - ETA: 210s - loss: 40.4484 - acc: 0.76 - ETA: 204s - loss: 40.2630 - acc: 0.78 - ETA: 197s - loss: 40.1077 - acc: 0.79 - ETA: 190s - loss: 39.9683 - acc: 0.77 - ETA: 183s - loss: 39.8171 - acc: 0.77 - ETA: 176s - loss: 39.6638 - acc: 0.77 - ETA: 169s - loss: 39.5075 - acc: 0.77 - ETA: 162s - loss: 39.3513 - acc: 0.78 - ETA: 156s - loss: 39.1977 - acc: 0.78 - ETA: 149s - loss: 39.0424 - acc: 0.78 - ETA: 141s - loss: 38.8871 - acc: 0.78 - ETA: 134s - loss: 38.7358 - acc: 0.78 - ETA: 127s - loss: 38.5846 - acc: 0.78 - ETA: 120s - loss: 38.4400 - acc: 0.78 - ETA: 113s - loss: 38.2908 - acc: 0.78 - ETA: 106s - loss: 38.1481 - acc: 0.78 - ETA: 99s - loss: 38.0051 - acc: 0.7795 - ETA: 92s - loss: 37.8636 - acc: 0.777 - ETA: 85s - loss: 37.7169 - acc: 0.780 - ETA: 79s - loss: 37.5742 - acc: 0.780 - ETA: 72s - loss: 37.4318 - acc: 0.780 - ETA: 65s - loss: 37.2878 - acc: 0.780 - ETA: 58s - loss: 37.1493 - acc: 0.779 - ETA: 51s - loss: 37.0143 - acc: 0.773 - ETA: 44s - loss: 36.8733 - acc: 0.775 - ETA: 37s - loss: 36.7339 - acc: 0.775 - ETA: 30s - loss: 36.5949 - acc: 0.776 - ETA: 23s - loss: 36.4561 - acc: 0.777 - ETA: 16s - loss: 36.3153 - acc: 0.779 - ETA: 9s - loss: 36.1774 - acc: 0.780 - ETA: 2s - loss: 36.0443 - acc: 0.77 - 270s - loss: 35.9913 - acc: 0.7769 - val_loss: 31.2793 - val_acc: 0.7039\n",
      "Epoch 8/30\n",
      "3340/3340 [==============================] - ETA: 235s - loss: 31.3568 - acc: 0.67 - ETA: 221s - loss: 31.1863 - acc: 0.70 - ETA: 215s - loss: 31.0267 - acc: 0.74 - ETA: 205s - loss: 30.8895 - acc: 0.75 - ETA: 197s - loss: 30.7610 - acc: 0.75 - ETA: 190s - loss: 30.6408 - acc: 0.76 - ETA: 184s - loss: 30.5156 - acc: 0.76 - ETA: 178s - loss: 30.3848 - acc: 0.77 - ETA: 171s - loss: 30.2624 - acc: 0.78 - ETA: 163s - loss: 30.1421 - acc: 0.77 - ETA: 156s - loss: 30.0174 - acc: 0.78 - ETA: 149s - loss: 29.8965 - acc: 0.78 - ETA: 142s - loss: 29.7777 - acc: 0.78 - ETA: 135s - loss: 29.6584 - acc: 0.78 - ETA: 128s - loss: 29.5363 - acc: 0.79 - ETA: 121s - loss: 29.4185 - acc: 0.79 - ETA: 114s - loss: 29.3116 - acc: 0.78 - ETA: 107s - loss: 29.1999 - acc: 0.78 - ETA: 100s - loss: 29.0889 - acc: 0.78 - ETA: 93s - loss: 28.9741 - acc: 0.7890 - ETA: 86s - loss: 28.8612 - acc: 0.791 - ETA: 80s - loss: 28.7503 - acc: 0.791 - ETA: 73s - loss: 28.6375 - acc: 0.794 - ETA: 66s - loss: 28.5309 - acc: 0.792 - ETA: 59s - loss: 28.4276 - acc: 0.788 - ETA: 52s - loss: 28.3194 - acc: 0.788 - ETA: 45s - loss: 28.2129 - acc: 0.789 - ETA: 37s - loss: 28.1082 - acc: 0.786 - ETA: 30s - loss: 28.0015 - acc: 0.786 - ETA: 23s - loss: 27.8959 - acc: 0.786 - ETA: 16s - loss: 27.7913 - acc: 0.785 - ETA: 9s - loss: 27.6856 - acc: 0.786 - ETA: 2s - loss: 27.5810 - acc: 0.78 - 272s - loss: 27.5379 - acc: 0.7859 - val_loss: 23.8255 - val_acc: 0.8045\n",
      "Epoch 9/30\n",
      "3340/3340 [==============================] - ETA: 214s - loss: 23.8226 - acc: 0.82 - ETA: 213s - loss: 23.7460 - acc: 0.80 - ETA: 206s - loss: 23.6583 - acc: 0.78 - ETA: 202s - loss: 23.5592 - acc: 0.79 - ETA: 196s - loss: 23.4754 - acc: 0.79 - ETA: 189s - loss: 23.3810 - acc: 0.79 - ETA: 183s - loss: 23.2909 - acc: 0.79 - ETA: 176s - loss: 23.1993 - acc: 0.79 - ETA: 169s - loss: 23.1069 - acc: 0.79 - ETA: 162s - loss: 23.0291 - acc: 0.78 - ETA: 156s - loss: 22.9392 - acc: 0.79 - ETA: 149s - loss: 22.8583 - acc: 0.78 - ETA: 143s - loss: 22.7734 - acc: 0.78 - ETA: 136s - loss: 22.6807 - acc: 0.79 - ETA: 129s - loss: 22.5891 - acc: 0.79 - ETA: 122s - loss: 22.5031 - acc: 0.79 - ETA: 115s - loss: 22.4227 - acc: 0.79 - ETA: 108s - loss: 22.3418 - acc: 0.78 - ETA: 101s - loss: 22.2570 - acc: 0.78 - ETA: 94s - loss: 22.1689 - acc: 0.7885 - ETA: 87s - loss: 22.0854 - acc: 0.787 - ETA: 80s - loss: 22.0014 - acc: 0.787 - ETA: 72s - loss: 21.9151 - acc: 0.789 - ETA: 65s - loss: 21.8333 - acc: 0.790 - ETA: 58s - loss: 21.7490 - acc: 0.791 - ETA: 51s - loss: 21.6656 - acc: 0.793 - ETA: 44s - loss: 21.5816 - acc: 0.793 - ETA: 37s - loss: 21.4998 - acc: 0.794 - ETA: 30s - loss: 21.4222 - acc: 0.792 - ETA: 23s - loss: 21.3411 - acc: 0.793 - ETA: 16s - loss: 21.2636 - acc: 0.791 - ETA: 9s - loss: 21.1863 - acc: 0.790 - ETA: 2s - loss: 21.1086 - acc: 0.78 - 272s - loss: 21.0763 - acc: 0.7901 - val_loss: 18.2844 - val_acc: 0.8094\n",
      "Epoch 10/30\n",
      "3340/3340 [==============================] - ETA: 226s - loss: 18.1844 - acc: 0.90 - ETA: 220s - loss: 18.2137 - acc: 0.80 - ETA: 216s - loss: 18.1637 - acc: 0.78 - ETA: 208s - loss: 18.0873 - acc: 0.80 - ETA: 200s - loss: 18.0272 - acc: 0.79 - ETA: 192s - loss: 17.9560 - acc: 0.79 - ETA: 185s - loss: 17.8813 - acc: 0.80 - ETA: 178s - loss: 17.8160 - acc: 0.80 - ETA: 171s - loss: 17.7580 - acc: 0.79 - ETA: 163s - loss: 17.6877 - acc: 0.79 - ETA: 157s - loss: 17.6267 - acc: 0.78 - ETA: 149s - loss: 17.5526 - acc: 0.79 - ETA: 142s - loss: 17.4802 - acc: 0.80 - ETA: 135s - loss: 17.4116 - acc: 0.80 - ETA: 128s - loss: 17.3463 - acc: 0.80 - ETA: 121s - loss: 17.2760 - acc: 0.80 - ETA: 114s - loss: 17.2140 - acc: 0.80 - ETA: 107s - loss: 17.1536 - acc: 0.80 - ETA: 101s - loss: 17.0898 - acc: 0.79 - ETA: 94s - loss: 17.0270 - acc: 0.7935 - ETA: 86s - loss: 16.9593 - acc: 0.796 - ETA: 79s - loss: 16.8945 - acc: 0.796 - ETA: 72s - loss: 16.8313 - acc: 0.796 - ETA: 65s - loss: 16.7668 - acc: 0.797 - ETA: 58s - loss: 16.7030 - acc: 0.799 - ETA: 52s - loss: 16.6410 - acc: 0.798 - ETA: 45s - loss: 16.5790 - acc: 0.798 - ETA: 38s - loss: 16.5157 - acc: 0.799 - ETA: 30s - loss: 16.4519 - acc: 0.800 - ETA: 23s - loss: 16.3996 - acc: 0.795 - ETA: 16s - loss: 16.3418 - acc: 0.791 - ETA: 9s - loss: 16.2829 - acc: 0.790 - ETA: 2s - loss: 16.2241 - acc: 0.78 - 272s - loss: 16.2001 - acc: 0.7886 - val_loss: 14.0885 - val_acc: 0.7849\n",
      "Epoch 11/30\n"
     ]
    },
    {
     "name": "stdout",
     "output_type": "stream",
     "text": [
      "3340/3340 [==============================] - ETA: 221s - loss: 14.1320 - acc: 0.75 - ETA: 212s - loss: 14.0463 - acc: 0.76 - ETA: 208s - loss: 13.9951 - acc: 0.77 - ETA: 200s - loss: 13.9363 - acc: 0.76 - ETA: 195s - loss: 13.8613 - acc: 0.78 - ETA: 188s - loss: 13.8085 - acc: 0.78 - ETA: 182s - loss: 13.7536 - acc: 0.78 - ETA: 175s - loss: 13.7051 - acc: 0.78 - ETA: 168s - loss: 13.6512 - acc: 0.78 - ETA: 161s - loss: 13.5983 - acc: 0.78 - ETA: 155s - loss: 13.5439 - acc: 0.78 - ETA: 148s - loss: 13.4877 - acc: 0.79 - ETA: 141s - loss: 13.4389 - acc: 0.79 - ETA: 134s - loss: 13.3867 - acc: 0.79 - ETA: 128s - loss: 13.3361 - acc: 0.79 - ETA: 120s - loss: 13.2800 - acc: 0.80 - ETA: 113s - loss: 13.2336 - acc: 0.79 - ETA: 107s - loss: 13.1867 - acc: 0.79 - ETA: 100s - loss: 13.1415 - acc: 0.79 - ETA: 93s - loss: 13.0911 - acc: 0.7930 - ETA: 86s - loss: 13.0395 - acc: 0.794 - ETA: 79s - loss: 12.9886 - acc: 0.794 - ETA: 72s - loss: 12.9411 - acc: 0.792 - ETA: 65s - loss: 12.8909 - acc: 0.794 - ETA: 58s - loss: 12.8434 - acc: 0.795 - ETA: 51s - loss: 12.7933 - acc: 0.798 - ETA: 44s - loss: 12.7493 - acc: 0.794 - ETA: 37s - loss: 12.7058 - acc: 0.792 - ETA: 30s - loss: 12.6607 - acc: 0.789 - ETA: 23s - loss: 12.6139 - acc: 0.789 - ETA: 16s - loss: 12.5672 - acc: 0.790 - ETA: 9s - loss: 12.5192 - acc: 0.791 - ETA: 2s - loss: 12.4721 - acc: 0.79 - 271s - loss: 12.4534 - acc: 0.7919 - val_loss: 10.8793 - val_acc: 0.7633\n",
      "Epoch 12/30\n",
      "3340/3340 [==============================] - ETA: 249s - loss: 10.7746 - acc: 0.86 - ETA: 231s - loss: 10.7561 - acc: 0.82 - ETA: 220s - loss: 10.7566 - acc: 0.80 - ETA: 211s - loss: 10.7115 - acc: 0.80 - ETA: 205s - loss: 10.6659 - acc: 0.80 - ETA: 196s - loss: 10.6306 - acc: 0.80 - ETA: 188s - loss: 10.5914 - acc: 0.79 - ETA: 180s - loss: 10.5486 - acc: 0.79 - ETA: 172s - loss: 10.5116 - acc: 0.79 - ETA: 165s - loss: 10.4618 - acc: 0.80 - ETA: 158s - loss: 10.4254 - acc: 0.80 - ETA: 150s - loss: 10.3837 - acc: 0.80 - ETA: 144s - loss: 10.3434 - acc: 0.80 - ETA: 136s - loss: 10.3072 - acc: 0.79 - ETA: 129s - loss: 10.2732 - acc: 0.79 - ETA: 122s - loss: 10.2349 - acc: 0.79 - ETA: 115s - loss: 10.1942 - acc: 0.79 - ETA: 108s - loss: 10.1556 - acc: 0.79 - ETA: 101s - loss: 10.1183 - acc: 0.79 - ETA: 94s - loss: 10.0806 - acc: 0.7935 - ETA: 87s - loss: 10.0472 - acc: 0.788 - ETA: 80s - loss: 10.0132 - acc: 0.786 - ETA: 73s - loss: 9.9782 - acc: 0.784 - ETA: 66s - loss: 9.9506 - acc: 0.78 - ETA: 59s - loss: 9.9167 - acc: 0.77 - ETA: 52s - loss: 9.8822 - acc: 0.77 - ETA: 45s - loss: 9.8464 - acc: 0.77 - ETA: 38s - loss: 9.8094 - acc: 0.78 - ETA: 31s - loss: 9.7758 - acc: 0.77 - ETA: 24s - loss: 9.7375 - acc: 0.78 - ETA: 16s - loss: 9.7004 - acc: 0.78 - ETA: 9s - loss: 9.6650 - acc: 0.7853 - ETA: 2s - loss: 9.6293 - acc: 0.786 - 273s - loss: 9.6152 - acc: 0.7859 - val_loss: 8.4067 - val_acc: 0.7716\n",
      "Epoch 13/30\n",
      "3340/3340 [==============================] - ETA: 217s - loss: 8.3844 - acc: 0.730 - ETA: 213s - loss: 8.3246 - acc: 0.795 - ETA: 208s - loss: 8.2961 - acc: 0.806 - ETA: 202s - loss: 8.3006 - acc: 0.785 - ETA: 196s - loss: 8.3256 - acc: 0.748 - ETA: 189s - loss: 8.2844 - acc: 0.765 - ETA: 184s - loss: 8.2480 - acc: 0.774 - ETA: 177s - loss: 8.2121 - acc: 0.778 - ETA: 170s - loss: 8.1726 - acc: 0.786 - ETA: 163s - loss: 8.1331 - acc: 0.792 - ETA: 156s - loss: 8.1000 - acc: 0.790 - ETA: 148s - loss: 8.0639 - acc: 0.790 - ETA: 141s - loss: 8.0333 - acc: 0.790 - ETA: 135s - loss: 8.0063 - acc: 0.787 - ETA: 128s - loss: 7.9777 - acc: 0.788 - ETA: 121s - loss: 7.9453 - acc: 0.789 - ETA: 114s - loss: 7.9162 - acc: 0.790 - ETA: 107s - loss: 7.8838 - acc: 0.792 - ETA: 100s - loss: 7.8538 - acc: 0.790 - ETA: 93s - loss: 7.8206 - acc: 0.794 - ETA: 86s - loss: 7.7944 - acc: 0.79 - ETA: 79s - loss: 7.7698 - acc: 0.78 - ETA: 72s - loss: 7.7439 - acc: 0.78 - ETA: 65s - loss: 7.7144 - acc: 0.78 - ETA: 58s - loss: 7.6841 - acc: 0.79 - ETA: 51s - loss: 7.6555 - acc: 0.79 - ETA: 44s - loss: 7.6249 - acc: 0.79 - ETA: 37s - loss: 7.5958 - acc: 0.79 - ETA: 30s - loss: 7.5685 - acc: 0.79 - ETA: 23s - loss: 7.5412 - acc: 0.79 - ETA: 16s - loss: 7.5118 - acc: 0.79 - ETA: 9s - loss: 7.4846 - acc: 0.7994 - ETA: 2s - loss: 7.4588 - acc: 0.798 - 272s - loss: 7.4468 - acc: 0.7982 - val_loss: 6.4845 - val_acc: 0.8108\n",
      "Epoch 14/30\n",
      "3340/3340 [==============================] - ETA: 221s - loss: 6.4374 - acc: 0.890 - ETA: 216s - loss: 6.4396 - acc: 0.845 - ETA: 209s - loss: 6.4140 - acc: 0.843 - ETA: 203s - loss: 6.4165 - acc: 0.825 - ETA: 198s - loss: 6.4336 - acc: 0.796 - ETA: 194s - loss: 6.4352 - acc: 0.768 - ETA: 188s - loss: 6.3996 - acc: 0.784 - ETA: 181s - loss: 6.3765 - acc: 0.781 - ETA: 175s - loss: 6.3516 - acc: 0.781 - ETA: 171s - loss: 6.3349 - acc: 0.775 - ETA: 163s - loss: 6.3057 - acc: 0.782 - ETA: 155s - loss: 6.2819 - acc: 0.781 - ETA: 148s - loss: 6.2557 - acc: 0.784 - ETA: 140s - loss: 6.2300 - acc: 0.788 - ETA: 133s - loss: 6.2047 - acc: 0.791 - ETA: 125s - loss: 6.1774 - acc: 0.791 - ETA: 118s - loss: 6.1564 - acc: 0.791 - ETA: 110s - loss: 6.1291 - acc: 0.793 - ETA: 103s - loss: 6.1046 - acc: 0.794 - ETA: 96s - loss: 6.0794 - acc: 0.796 - ETA: 89s - loss: 6.0580 - acc: 0.79 - ETA: 82s - loss: 6.0397 - acc: 0.79 - ETA: 75s - loss: 6.0222 - acc: 0.78 - ETA: 67s - loss: 5.9988 - acc: 0.79 - ETA: 60s - loss: 5.9789 - acc: 0.78 - ETA: 53s - loss: 5.9648 - acc: 0.78 - ETA: 46s - loss: 5.9451 - acc: 0.78 - ETA: 39s - loss: 5.9230 - acc: 0.78 - ETA: 31s - loss: 5.9014 - acc: 0.78 - ETA: 24s - loss: 5.8778 - acc: 0.78 - ETA: 17s - loss: 5.8555 - acc: 0.78 - ETA: 10s - loss: 5.8342 - acc: 0.78 - ETA: 2s - loss: 5.8140 - acc: 0.7867 - 281s - loss: 5.8049 - acc: 0.7871 - val_loss: 5.0630 - val_acc: 0.8038\n",
      "Epoch 15/30\n",
      "3340/3340 [==============================] - ETA: 248s - loss: 5.0769 - acc: 0.780 - ETA: 239s - loss: 5.0376 - acc: 0.800 - ETA: 227s - loss: 5.0508 - acc: 0.776 - ETA: 221s - loss: 5.0243 - acc: 0.787 - ETA: 212s - loss: 5.0120 - acc: 0.794 - ETA: 207s - loss: 5.0057 - acc: 0.785 - ETA: 204s - loss: 4.9880 - acc: 0.782 - ETA: 199s - loss: 4.9684 - acc: 0.778 - ETA: 191s - loss: 4.9471 - acc: 0.781 - ETA: 183s - loss: 4.9274 - acc: 0.784 - ETA: 174s - loss: 4.9088 - acc: 0.788 - ETA: 166s - loss: 4.8916 - acc: 0.788 - ETA: 158s - loss: 4.8766 - acc: 0.788 - ETA: 150s - loss: 4.8629 - acc: 0.785 - ETA: 141s - loss: 4.8457 - acc: 0.786 - ETA: 134s - loss: 4.8324 - acc: 0.785 - ETA: 126s - loss: 4.8164 - acc: 0.782 - ETA: 118s - loss: 4.7976 - acc: 0.784 - ETA: 111s - loss: 4.7823 - acc: 0.782 - ETA: 103s - loss: 4.7647 - acc: 0.782 - ETA: 95s - loss: 4.7450 - acc: 0.785 - ETA: 87s - loss: 4.7235 - acc: 0.78 - ETA: 79s - loss: 4.7068 - acc: 0.79 - ETA: 72s - loss: 4.6922 - acc: 0.79 - ETA: 64s - loss: 4.6743 - acc: 0.79 - ETA: 56s - loss: 4.6580 - acc: 0.79 - ETA: 48s - loss: 4.6398 - acc: 0.79 - ETA: 41s - loss: 4.6240 - acc: 0.79 - ETA: 33s - loss: 4.6102 - acc: 0.79 - ETA: 25s - loss: 4.5958 - acc: 0.79 - ETA: 18s - loss: 4.5783 - acc: 0.79 - ETA: 10s - loss: 4.5639 - acc: 0.79 - ETA: 3s - loss: 4.5472 - acc: 0.7933 - 294s - loss: 4.5389 - acc: 0.7943 - val_loss: 3.9922 - val_acc: 0.7933\n",
      "Epoch 16/30\n",
      "3340/3340 [==============================] - ETA: 227s - loss: 4.0392 - acc: 0.760 - ETA: 221s - loss: 4.0555 - acc: 0.760 - ETA: 216s - loss: 4.0498 - acc: 0.743 - ETA: 209s - loss: 4.0410 - acc: 0.742 - ETA: 203s - loss: 4.0276 - acc: 0.742 - ETA: 197s - loss: 3.9999 - acc: 0.758 - ETA: 191s - loss: 3.9804 - acc: 0.760 - ETA: 184s - loss: 3.9556 - acc: 0.763 - ETA: 178s - loss: 3.9363 - acc: 0.771 - ETA: 172s - loss: 3.9167 - acc: 0.772 - ETA: 165s - loss: 3.9027 - acc: 0.770 - ETA: 159s - loss: 3.8788 - acc: 0.776 - ETA: 153s - loss: 3.8605 - acc: 0.780 - ETA: 146s - loss: 3.8510 - acc: 0.780 - ETA: 138s - loss: 3.8362 - acc: 0.781 - ETA: 131s - loss: 3.8228 - acc: 0.781 - ETA: 123s - loss: 3.8099 - acc: 0.779 - ETA: 115s - loss: 3.7924 - acc: 0.781 - ETA: 108s - loss: 3.7789 - acc: 0.782 - ETA: 100s - loss: 3.7664 - acc: 0.782 - ETA: 93s - loss: 3.7564 - acc: 0.780 - ETA: 86s - loss: 3.7401 - acc: 0.78 - ETA: 78s - loss: 3.7288 - acc: 0.78 - ETA: 71s - loss: 3.7162 - acc: 0.78 - ETA: 63s - loss: 3.7011 - acc: 0.78 - ETA: 56s - loss: 3.6888 - acc: 0.78 - ETA: 48s - loss: 3.6755 - acc: 0.78 - ETA: 40s - loss: 3.6645 - acc: 0.78 - ETA: 33s - loss: 3.6575 - acc: 0.78 - ETA: 25s - loss: 3.6448 - acc: 0.78 - ETA: 18s - loss: 3.6284 - acc: 0.78 - ETA: 10s - loss: 3.6160 - acc: 0.78 - ETA: 3s - loss: 3.6043 - acc: 0.7888 - 298s - loss: 3.5977 - acc: 0.7904 - val_loss: 3.1629 - val_acc: 0.7947\n",
      "Epoch 17/30\n",
      "3340/3340 [==============================] - ETA: 336s - loss: 3.1695 - acc: 0.780 - ETA: 294s - loss: 3.1333 - acc: 0.815 - ETA: 270s - loss: 3.1404 - acc: 0.793 - ETA: 256s - loss: 3.1228 - acc: 0.792 - ETA: 240s - loss: 3.1234 - acc: 0.784 - ETA: 229s - loss: 3.1155 - acc: 0.783 - ETA: 217s - loss: 3.1293 - acc: 0.768 - ETA: 210s - loss: 3.1055 - acc: 0.787 - ETA: 200s - loss: 3.0904 - acc: 0.792 - ETA: 189s - loss: 3.0747 - acc: 0.799 - ETA: 180s - loss: 3.0602 - acc: 0.800 - ETA: 171s - loss: 3.0437 - acc: 0.805 - ETA: 163s - loss: 3.0353 - acc: 0.804 - ETA: 154s - loss: 3.0257 - acc: 0.807 - ETA: 145s - loss: 3.0202 - acc: 0.804 - ETA: 138s - loss: 3.0130 - acc: 0.803 - ETA: 130s - loss: 3.0086 - acc: 0.801 - ETA: 122s - loss: 2.9963 - acc: 0.803 - ETA: 114s - loss: 2.9847 - acc: 0.805 - ETA: 105s - loss: 2.9724 - acc: 0.808 - ETA: 97s - loss: 2.9607 - acc: 0.808 - ETA: 89s - loss: 2.9493 - acc: 0.81 - ETA: 81s - loss: 2.9380 - acc: 0.81 - ETA: 74s - loss: 2.9284 - acc: 0.81 - ETA: 66s - loss: 2.9209 - acc: 0.81 - ETA: 58s - loss: 2.9091 - acc: 0.81 - ETA: 50s - loss: 2.9045 - acc: 0.80 - ETA: 42s - loss: 2.8988 - acc: 0.80 - ETA: 34s - loss: 2.8898 - acc: 0.80 - ETA: 26s - loss: 2.8817 - acc: 0.80 - ETA: 18s - loss: 2.8722 - acc: 0.80 - ETA: 11s - loss: 2.8626 - acc: 0.80 - ETA: 3s - loss: 2.8528 - acc: 0.8045 - 301s - loss: 2.8484 - acc: 0.8054 - val_loss: 2.5366 - val_acc: 0.8038\n",
      "Epoch 18/30\n",
      "3340/3340 [==============================] - ETA: 225s - loss: 2.4941 - acc: 0.840 - ETA: 216s - loss: 2.5513 - acc: 0.790 - ETA: 214s - loss: 2.5585 - acc: 0.790 - ETA: 208s - loss: 2.5564 - acc: 0.785 - ETA: 201s - loss: 2.5245 - acc: 0.804 - ETA: 195s - loss: 2.5020 - acc: 0.810 - ETA: 192s - loss: 2.4873 - acc: 0.814 - ETA: 185s - loss: 2.4791 - acc: 0.811 - ETA: 184s - loss: 2.4740 - acc: 0.807 - ETA: 176s - loss: 2.4629 - acc: 0.805 - ETA: 169s - loss: 2.4590 - acc: 0.801 - ETA: 163s - loss: 2.4469 - acc: 0.808 - ETA: 155s - loss: 2.4393 - acc: 0.806 - ETA: 148s - loss: 2.4315 - acc: 0.805 - ETA: 140s - loss: 2.4245 - acc: 0.803 - ETA: 133s - loss: 2.4203 - acc: 0.800 - ETA: 125s - loss: 2.4138 - acc: 0.801 - ETA: 117s - loss: 2.4041 - acc: 0.802 - ETA: 109s - loss: 2.3965 - acc: 0.803 - ETA: 101s - loss: 2.3860 - acc: 0.806 - ETA: 93s - loss: 2.3773 - acc: 0.807 - ETA: 85s - loss: 2.3701 - acc: 0.80 - ETA: 78s - loss: 2.3642 - acc: 0.80 - ETA: 70s - loss: 2.3649 - acc: 0.80 - ETA: 63s - loss: 2.3619 - acc: 0.79 - ETA: 55s - loss: 2.3540 - acc: 0.80 - ETA: 48s - loss: 2.3462 - acc: 0.80 - ETA: 41s - loss: 2.3390 - acc: 0.80 - ETA: 33s - loss: 2.3342 - acc: 0.79 - ETA: 25s - loss: 2.3267 - acc: 0.79 - ETA: 18s - loss: 2.3198 - acc: 0.79 - ETA: 10s - loss: 2.3125 - acc: 0.79 - ETA: 3s - loss: 2.3070 - acc: 0.7994 - 295s - loss: 2.3048 - acc: 0.7988 - val_loss: 2.0715 - val_acc: 0.7940\n",
      "Epoch 19/30\n",
      "3340/3340 [==============================] - ETA: 244s - loss: 2.0237 - acc: 0.860 - ETA: 233s - loss: 2.0095 - acc: 0.870 - ETA: 224s - loss: 2.0088 - acc: 0.840 - ETA: 221s - loss: 2.0139 - acc: 0.830 - ETA: 212s - loss: 2.0101 - acc: 0.826 - ETA: 203s - loss: 2.0089 - acc: 0.816 - ETA: 196s - loss: 2.0035 - acc: 0.815 - ETA: 193s - loss: 1.9930 - acc: 0.813 - ETA: 186s - loss: 1.9840 - acc: 0.815 - ETA: 177s - loss: 1.9741 - acc: 0.818 - ETA: 169s - loss: 1.9644 - acc: 0.822 - ETA: 162s - loss: 1.9644 - acc: 0.818 - ETA: 154s - loss: 1.9631 - acc: 0.815 - ETA: 147s - loss: 1.9505 - acc: 0.820 - ETA: 139s - loss: 1.9409 - acc: 0.824 - ETA: 131s - loss: 1.9379 - acc: 0.820 - ETA: 124s - loss: 1.9464 - acc: 0.811 - ETA: 117s - loss: 1.9547 - acc: 0.801 - ETA: 109s - loss: 1.9549 - acc: 0.800 - ETA: 102s - loss: 1.9510 - acc: 0.802 - ETA: 95s - loss: 1.9455 - acc: 0.801 - ETA: 87s - loss: 1.9369 - acc: 0.80 - ETA: 79s - loss: 1.9322 - acc: 0.80 - ETA: 72s - loss: 1.9272 - acc: 0.80 - ETA: 64s - loss: 1.9187 - acc: 0.80 - ETA: 56s - loss: 1.9133 - acc: 0.80 - ETA: 49s - loss: 1.9066 - acc: 0.80 - ETA: 41s - loss: 1.9030 - acc: 0.80 - ETA: 33s - loss: 1.8969 - acc: 0.80 - ETA: 25s - loss: 1.8901 - acc: 0.80 - ETA: 18s - loss: 1.8820 - acc: 0.80 - ETA: 10s - loss: 1.8782 - acc: 0.80 - ETA: 3s - loss: 1.8755 - acc: 0.8033 - 293s - loss: 1.8732 - acc: 0.8030 - val_loss: 1.6826 - val_acc: 0.8052\n",
      "Epoch 20/30\n",
      "3340/3340 [==============================] - ETA: 230s - loss: 1.6500 - acc: 0.840 - ETA: 225s - loss: 1.6837 - acc: 0.795 - ETA: 221s - loss: 1.6781 - acc: 0.803 - ETA: 214s - loss: 1.6866 - acc: 0.780 - ETA: 207s - loss: 1.6620 - acc: 0.800 - ETA: 200s - loss: 1.6564 - acc: 0.800 - ETA: 193s - loss: 1.6460 - acc: 0.810 - ETA: 185s - loss: 1.6392 - acc: 0.810 - ETA: 178s - loss: 1.6325 - acc: 0.813 - ETA: 171s - loss: 1.6388 - acc: 0.808 - ETA: 165s - loss: 1.6580 - acc: 0.792 - ETA: 157s - loss: 1.6627 - acc: 0.786 - ETA: 150s - loss: 1.6570 - acc: 0.791 - ETA: 142s - loss: 1.6519 - acc: 0.790 - ETA: 134s - loss: 1.6425 - acc: 0.796 - ETA: 127s - loss: 1.6350 - acc: 0.798 - ETA: 119s - loss: 1.6319 - acc: 0.797 - ETA: 113s - loss: 1.6413 - acc: 0.787 - ETA: 106s - loss: 1.6435 - acc: 0.778 - ETA: 98s - loss: 1.6363 - acc: 0.780 - ETA: 91s - loss: 1.6313 - acc: 0.78 - ETA: 84s - loss: 1.6236 - acc: 0.78 - ETA: 77s - loss: 1.6177 - acc: 0.78 - ETA: 69s - loss: 1.6118 - acc: 0.78 - ETA: 62s - loss: 1.6081 - acc: 0.78 - ETA: 54s - loss: 1.6039 - acc: 0.78 - ETA: 47s - loss: 1.6016 - acc: 0.78 - ETA: 40s - loss: 1.5973 - acc: 0.78 - ETA: 32s - loss: 1.5908 - acc: 0.78 - ETA: 25s - loss: 1.5843 - acc: 0.79 - ETA: 17s - loss: 1.5801 - acc: 0.78 - ETA: 10s - loss: 1.5746 - acc: 0.79 - ETA: 2s - loss: 1.5715 - acc: 0.7906 - 287s - loss: 1.5695 - acc: 0.7913 - val_loss: 1.4075 - val_acc: 0.8128\n",
      "Epoch 21/30\n"
     ]
    },
    {
     "name": "stdout",
     "output_type": "stream",
     "text": [
      "3340/3340 [==============================] - ETA: 239s - loss: 1.3828 - acc: 0.820 - ETA: 232s - loss: 1.3854 - acc: 0.815 - ETA: 227s - loss: 1.4161 - acc: 0.786 - ETA: 222s - loss: 1.4094 - acc: 0.792 - ETA: 219s - loss: 1.3945 - acc: 0.806 - ETA: 211s - loss: 1.3759 - acc: 0.820 - ETA: 205s - loss: 1.3815 - acc: 0.815 - ETA: 198s - loss: 1.3754 - acc: 0.813 - ETA: 191s - loss: 1.3699 - acc: 0.813 - ETA: 183s - loss: 1.3825 - acc: 0.799 - ETA: 176s - loss: 1.3893 - acc: 0.790 - ETA: 171s - loss: 1.3851 - acc: 0.791 - ETA: 163s - loss: 1.3798 - acc: 0.796 - ETA: 154s - loss: 1.3822 - acc: 0.790 - ETA: 146s - loss: 1.3765 - acc: 0.793 - ETA: 137s - loss: 1.3698 - acc: 0.796 - ETA: 129s - loss: 1.3666 - acc: 0.794 - ETA: 121s - loss: 1.3654 - acc: 0.789 - ETA: 113s - loss: 1.3586 - acc: 0.794 - ETA: 105s - loss: 1.3523 - acc: 0.796 - ETA: 97s - loss: 1.3474 - acc: 0.797 - ETA: 90s - loss: 1.3426 - acc: 0.79 - ETA: 82s - loss: 1.3380 - acc: 0.79 - ETA: 74s - loss: 1.3359 - acc: 0.79 - ETA: 66s - loss: 1.3290 - acc: 0.80 - ETA: 58s - loss: 1.3242 - acc: 0.80 - ETA: 50s - loss: 1.3217 - acc: 0.80 - ETA: 43s - loss: 1.3174 - acc: 0.80 - ETA: 35s - loss: 1.3168 - acc: 0.80 - ETA: 27s - loss: 1.3210 - acc: 0.79 - ETA: 19s - loss: 1.3212 - acc: 0.79 - ETA: 11s - loss: 1.3201 - acc: 0.79 - ETA: 3s - loss: 1.3192 - acc: 0.7915 - 307s - loss: 1.3183 - acc: 0.7916 - val_loss: 1.2192 - val_acc: 0.7947\n",
      "Epoch 22/30\n",
      "3340/3340 [==============================] - ETA: 237s - loss: 1.2920 - acc: 0.750 - ETA: 228s - loss: 1.2611 - acc: 0.760 - ETA: 221s - loss: 1.2334 - acc: 0.780 - ETA: 221s - loss: 1.2241 - acc: 0.785 - ETA: 217s - loss: 1.2293 - acc: 0.782 - ETA: 211s - loss: 1.2163 - acc: 0.786 - ETA: 203s - loss: 1.2065 - acc: 0.798 - ETA: 193s - loss: 1.2032 - acc: 0.796 - ETA: 186s - loss: 1.1960 - acc: 0.796 - ETA: 177s - loss: 1.1837 - acc: 0.804 - ETA: 170s - loss: 1.1817 - acc: 0.803 - ETA: 162s - loss: 1.1760 - acc: 0.805 - ETA: 155s - loss: 1.1670 - acc: 0.810 - ETA: 147s - loss: 1.1642 - acc: 0.809 - ETA: 139s - loss: 1.1739 - acc: 0.801 - ETA: 131s - loss: 1.1782 - acc: 0.796 - ETA: 124s - loss: 1.1756 - acc: 0.798 - ETA: 116s - loss: 1.1731 - acc: 0.798 - ETA: 108s - loss: 1.1712 - acc: 0.795 - ETA: 101s - loss: 1.1677 - acc: 0.794 - ETA: 93s - loss: 1.1607 - acc: 0.799 - ETA: 86s - loss: 1.1552 - acc: 0.80 - ETA: 78s - loss: 1.1494 - acc: 0.80 - ETA: 70s - loss: 1.1476 - acc: 0.80 - ETA: 63s - loss: 1.1463 - acc: 0.80 - ETA: 55s - loss: 1.1419 - acc: 0.80 - ETA: 48s - loss: 1.1392 - acc: 0.80 - ETA: 40s - loss: 1.1345 - acc: 0.80 - ETA: 33s - loss: 1.1335 - acc: 0.80 - ETA: 25s - loss: 1.1301 - acc: 0.80 - ETA: 18s - loss: 1.1271 - acc: 0.80 - ETA: 10s - loss: 1.1277 - acc: 0.80 - ETA: 3s - loss: 1.1244 - acc: 0.8021 - 289s - loss: 1.1226 - acc: 0.8030 - val_loss: 1.0319 - val_acc: 0.8135\n",
      "Epoch 23/30\n",
      "3340/3340 [==============================] - ETA: 235s - loss: 1.0154 - acc: 0.820 - ETA: 227s - loss: 1.0402 - acc: 0.810 - ETA: 223s - loss: 1.0127 - acc: 0.816 - ETA: 217s - loss: 1.0102 - acc: 0.822 - ETA: 211s - loss: 1.0191 - acc: 0.820 - ETA: 209s - loss: 1.0217 - acc: 0.815 - ETA: 201s - loss: 1.0179 - acc: 0.815 - ETA: 195s - loss: 1.0098 - acc: 0.816 - ETA: 187s - loss: 1.0106 - acc: 0.815 - ETA: 183s - loss: 1.0102 - acc: 0.811 - ETA: 175s - loss: 0.9984 - acc: 0.817 - ETA: 169s - loss: 1.0106 - acc: 0.810 - ETA: 161s - loss: 1.0126 - acc: 0.806 - ETA: 152s - loss: 1.0072 - acc: 0.808 - ETA: 143s - loss: 1.0046 - acc: 0.810 - ETA: 134s - loss: 1.0069 - acc: 0.809 - ETA: 126s - loss: 1.0038 - acc: 0.808 - ETA: 118s - loss: 1.0024 - acc: 0.810 - ETA: 110s - loss: 1.0011 - acc: 0.808 - ETA: 102s - loss: 1.0010 - acc: 0.807 - ETA: 94s - loss: 0.9982 - acc: 0.808 - ETA: 87s - loss: 0.9951 - acc: 0.80 - ETA: 79s - loss: 0.9890 - acc: 0.80 - ETA: 71s - loss: 0.9890 - acc: 0.80 - ETA: 64s - loss: 0.9826 - acc: 0.81 - ETA: 56s - loss: 0.9810 - acc: 0.81 - ETA: 48s - loss: 0.9809 - acc: 0.81 - ETA: 41s - loss: 0.9813 - acc: 0.80 - ETA: 33s - loss: 0.9815 - acc: 0.80 - ETA: 25s - loss: 0.9832 - acc: 0.80 - ETA: 18s - loss: 0.9833 - acc: 0.80 - ETA: 10s - loss: 0.9814 - acc: 0.80 - ETA: 3s - loss: 0.9777 - acc: 0.8052 - 296s - loss: 0.9787 - acc: 0.8042 - val_loss: 0.9822 - val_acc: 0.7486\n",
      "Epoch 24/30\n",
      "3340/3340 [==============================] - ETA: 261s - loss: 0.9311 - acc: 0.810 - ETA: 242s - loss: 0.8981 - acc: 0.835 - ETA: 228s - loss: 0.8921 - acc: 0.840 - ETA: 220s - loss: 0.8991 - acc: 0.840 - ETA: 211s - loss: 0.9023 - acc: 0.834 - ETA: 205s - loss: 0.8895 - acc: 0.838 - ETA: 197s - loss: 0.8878 - acc: 0.832 - ETA: 190s - loss: 0.8788 - acc: 0.833 - ETA: 184s - loss: 0.8747 - acc: 0.825 - ETA: 178s - loss: 0.8783 - acc: 0.825 - ETA: 170s - loss: 0.8810 - acc: 0.819 - ETA: 162s - loss: 0.8784 - acc: 0.816 - ETA: 155s - loss: 0.8750 - acc: 0.818 - ETA: 148s - loss: 0.8812 - acc: 0.815 - ETA: 141s - loss: 0.8855 - acc: 0.812 - ETA: 133s - loss: 0.8892 - acc: 0.808 - ETA: 126s - loss: 0.8867 - acc: 0.807 - ETA: 118s - loss: 0.8900 - acc: 0.801 - ETA: 110s - loss: 0.8890 - acc: 0.802 - ETA: 102s - loss: 0.8857 - acc: 0.803 - ETA: 94s - loss: 0.8841 - acc: 0.802 - ETA: 86s - loss: 0.8772 - acc: 0.80 - ETA: 79s - loss: 0.8752 - acc: 0.80 - ETA: 71s - loss: 0.8747 - acc: 0.80 - ETA: 63s - loss: 0.8742 - acc: 0.80 - ETA: 56s - loss: 0.8748 - acc: 0.80 - ETA: 48s - loss: 0.8757 - acc: 0.80 - ETA: 41s - loss: 0.8759 - acc: 0.80 - ETA: 33s - loss: 0.8747 - acc: 0.80 - ETA: 25s - loss: 0.8736 - acc: 0.80 - ETA: 18s - loss: 0.8692 - acc: 0.80 - ETA: 10s - loss: 0.8672 - acc: 0.80 - ETA: 3s - loss: 0.8665 - acc: 0.8058 - 294s - loss: 0.8652 - acc: 0.8069 - val_loss: 0.8521 - val_acc: 0.7772\n",
      "Epoch 25/30\n",
      "3340/3340 [==============================] - ETA: 250s - loss: 0.8720 - acc: 0.760 - ETA: 248s - loss: 0.8983 - acc: 0.745 - ETA: 236s - loss: 0.9076 - acc: 0.750 - ETA: 225s - loss: 0.8924 - acc: 0.765 - ETA: 216s - loss: 0.8835 - acc: 0.774 - ETA: 213s - loss: 0.8715 - acc: 0.785 - ETA: 207s - loss: 0.8572 - acc: 0.797 - ETA: 201s - loss: 0.8431 - acc: 0.806 - ETA: 194s - loss: 0.8366 - acc: 0.813 - ETA: 186s - loss: 0.8317 - acc: 0.813 - ETA: 178s - loss: 0.8268 - acc: 0.815 - ETA: 169s - loss: 0.8217 - acc: 0.817 - ETA: 160s - loss: 0.8213 - acc: 0.810 - ETA: 153s - loss: 0.8304 - acc: 0.802 - ETA: 145s - loss: 0.8288 - acc: 0.802 - ETA: 136s - loss: 0.8237 - acc: 0.802 - ETA: 129s - loss: 0.8177 - acc: 0.805 - ETA: 121s - loss: 0.8137 - acc: 0.807 - ETA: 113s - loss: 0.8089 - acc: 0.807 - ETA: 105s - loss: 0.8077 - acc: 0.807 - ETA: 97s - loss: 0.8039 - acc: 0.809 - ETA: 89s - loss: 0.7975 - acc: 0.81 - ETA: 81s - loss: 0.7963 - acc: 0.81 - ETA: 73s - loss: 0.7938 - acc: 0.81 - ETA: 65s - loss: 0.7904 - acc: 0.81 - ETA: 57s - loss: 0.7910 - acc: 0.81 - ETA: 49s - loss: 0.7902 - acc: 0.81 - ETA: 41s - loss: 0.7908 - acc: 0.81 - ETA: 33s - loss: 0.7870 - acc: 0.81 - ETA: 26s - loss: 0.7856 - acc: 0.81 - ETA: 18s - loss: 0.7892 - acc: 0.80 - ETA: 10s - loss: 0.7956 - acc: 0.80 - ETA: 3s - loss: 0.7974 - acc: 0.8006 - 295s - loss: 0.7978 - acc: 0.7994 - val_loss: 0.8229 - val_acc: 0.7556\n",
      "Epoch 26/30\n",
      "3340/3340 [==============================] - ETA: 240s - loss: 0.8021 - acc: 0.770 - ETA: 234s - loss: 0.7975 - acc: 0.760 - ETA: 220s - loss: 0.7787 - acc: 0.773 - ETA: 214s - loss: 0.7603 - acc: 0.787 - ETA: 206s - loss: 0.7632 - acc: 0.784 - ETA: 201s - loss: 0.7529 - acc: 0.785 - ETA: 195s - loss: 0.7535 - acc: 0.782 - ETA: 188s - loss: 0.7493 - acc: 0.785 - ETA: 185s - loss: 0.7548 - acc: 0.778 - ETA: 179s - loss: 0.7637 - acc: 0.781 - ETA: 172s - loss: 0.7690 - acc: 0.777 - ETA: 165s - loss: 0.7633 - acc: 0.786 - ETA: 156s - loss: 0.7567 - acc: 0.793 - ETA: 149s - loss: 0.7560 - acc: 0.792 - ETA: 141s - loss: 0.7528 - acc: 0.794 - ETA: 133s - loss: 0.7570 - acc: 0.790 - ETA: 126s - loss: 0.7546 - acc: 0.791 - ETA: 118s - loss: 0.7543 - acc: 0.791 - ETA: 110s - loss: 0.7618 - acc: 0.784 - ETA: 102s - loss: 0.7591 - acc: 0.786 - ETA: 94s - loss: 0.7574 - acc: 0.787 - ETA: 86s - loss: 0.7558 - acc: 0.78 - ETA: 78s - loss: 0.7515 - acc: 0.78 - ETA: 71s - loss: 0.7466 - acc: 0.79 - ETA: 63s - loss: 0.7496 - acc: 0.78 - ETA: 55s - loss: 0.7462 - acc: 0.79 - ETA: 48s - loss: 0.7434 - acc: 0.79 - ETA: 40s - loss: 0.7429 - acc: 0.79 - ETA: 32s - loss: 0.7407 - acc: 0.79 - ETA: 25s - loss: 0.7413 - acc: 0.79 - ETA: 17s - loss: 0.7430 - acc: 0.79 - ETA: 10s - loss: 0.7413 - acc: 0.79 - ETA: 2s - loss: 0.7382 - acc: 0.7948 - 285s - loss: 0.7382 - acc: 0.7946 - val_loss: 0.7785 - val_acc: 0.7409\n",
      "Epoch 27/30\n",
      "3340/3340 [==============================] - ETA: 222s - loss: 0.7587 - acc: 0.780 - ETA: 216s - loss: 0.7397 - acc: 0.795 - ETA: 212s - loss: 0.7362 - acc: 0.790 - ETA: 206s - loss: 0.7080 - acc: 0.800 - ETA: 199s - loss: 0.6945 - acc: 0.810 - ETA: 194s - loss: 0.6954 - acc: 0.805 - ETA: 186s - loss: 0.6974 - acc: 0.805 - ETA: 178s - loss: 0.6944 - acc: 0.801 - ETA: 173s - loss: 0.6887 - acc: 0.802 - ETA: 166s - loss: 0.6895 - acc: 0.806 - ETA: 159s - loss: 0.6956 - acc: 0.802 - ETA: 154s - loss: 0.6885 - acc: 0.810 - ETA: 147s - loss: 0.6858 - acc: 0.811 - ETA: 140s - loss: 0.6884 - acc: 0.810 - ETA: 133s - loss: 0.6881 - acc: 0.810 - ETA: 126s - loss: 0.6851 - acc: 0.810 - ETA: 119s - loss: 0.6841 - acc: 0.810 - ETA: 113s - loss: 0.6794 - acc: 0.812 - ETA: 107s - loss: 0.6793 - acc: 0.813 - ETA: 100s - loss: 0.6760 - acc: 0.814 - ETA: 92s - loss: 0.6774 - acc: 0.811 - ETA: 85s - loss: 0.6754 - acc: 0.81 - ETA: 77s - loss: 0.6735 - acc: 0.81 - ETA: 69s - loss: 0.6706 - acc: 0.81 - ETA: 62s - loss: 0.6694 - acc: 0.81 - ETA: 54s - loss: 0.6662 - acc: 0.81 - ETA: 47s - loss: 0.6701 - acc: 0.81 - ETA: 39s - loss: 0.6700 - acc: 0.81 - ETA: 32s - loss: 0.6704 - acc: 0.81 - ETA: 25s - loss: 0.6664 - acc: 0.81 - ETA: 17s - loss: 0.6666 - acc: 0.81 - ETA: 10s - loss: 0.6699 - acc: 0.80 - ETA: 2s - loss: 0.6698 - acc: 0.8097 - 281s - loss: 0.6687 - acc: 0.8108 - val_loss: 0.6624 - val_acc: 0.7933\n",
      "Epoch 28/30\n",
      "3340/3340 [==============================] - ETA: 220s - loss: 0.5920 - acc: 0.870 - ETA: 218s - loss: 0.5844 - acc: 0.870 - ETA: 216s - loss: 0.6242 - acc: 0.826 - ETA: 209s - loss: 0.6264 - acc: 0.822 - ETA: 201s - loss: 0.6245 - acc: 0.818 - ETA: 193s - loss: 0.6203 - acc: 0.830 - ETA: 185s - loss: 0.6142 - acc: 0.827 - ETA: 177s - loss: 0.6090 - acc: 0.830 - ETA: 170s - loss: 0.6006 - acc: 0.835 - ETA: 163s - loss: 0.6090 - acc: 0.829 - ETA: 156s - loss: 0.6162 - acc: 0.825 - ETA: 149s - loss: 0.6200 - acc: 0.820 - ETA: 141s - loss: 0.6142 - acc: 0.823 - ETA: 135s - loss: 0.6057 - acc: 0.827 - ETA: 128s - loss: 0.6072 - acc: 0.824 - ETA: 121s - loss: 0.6074 - acc: 0.821 - ETA: 114s - loss: 0.6202 - acc: 0.817 - ETA: 107s - loss: 0.6377 - acc: 0.808 - ETA: 100s - loss: 0.6473 - acc: 0.802 - ETA: 93s - loss: 0.6535 - acc: 0.801 - ETA: 86s - loss: 0.6565 - acc: 0.79 - ETA: 79s - loss: 0.6586 - acc: 0.79 - ETA: 72s - loss: 0.6583 - acc: 0.79 - ETA: 65s - loss: 0.6552 - acc: 0.80 - ETA: 58s - loss: 0.6558 - acc: 0.80 - ETA: 51s - loss: 0.6555 - acc: 0.80 - ETA: 44s - loss: 0.6552 - acc: 0.80 - ETA: 37s - loss: 0.6514 - acc: 0.80 - ETA: 30s - loss: 0.6503 - acc: 0.80 - ETA: 23s - loss: 0.6503 - acc: 0.80 - ETA: 16s - loss: 0.6506 - acc: 0.80 - ETA: 9s - loss: 0.6497 - acc: 0.8022 - ETA: 2s - loss: 0.6478 - acc: 0.802 - 271s - loss: 0.6460 - acc: 0.8036 - val_loss: 0.6234 - val_acc: 0.8045\n",
      "Epoch 29/30\n",
      "3340/3340 [==============================] - ETA: 224s - loss: 0.6061 - acc: 0.810 - ETA: 226s - loss: 0.6439 - acc: 0.785 - ETA: 216s - loss: 0.6524 - acc: 0.780 - ETA: 208s - loss: 0.6581 - acc: 0.767 - ETA: 202s - loss: 0.6461 - acc: 0.780 - ETA: 194s - loss: 0.6287 - acc: 0.798 - ETA: 186s - loss: 0.6295 - acc: 0.801 - ETA: 178s - loss: 0.6477 - acc: 0.787 - ETA: 171s - loss: 0.6493 - acc: 0.785 - ETA: 164s - loss: 0.6458 - acc: 0.786 - ETA: 156s - loss: 0.6389 - acc: 0.790 - ETA: 149s - loss: 0.6367 - acc: 0.795 - ETA: 142s - loss: 0.6388 - acc: 0.798 - ETA: 135s - loss: 0.6386 - acc: 0.797 - ETA: 128s - loss: 0.6325 - acc: 0.801 - ETA: 121s - loss: 0.6280 - acc: 0.803 - ETA: 114s - loss: 0.6251 - acc: 0.802 - ETA: 107s - loss: 0.6250 - acc: 0.801 - ETA: 100s - loss: 0.6328 - acc: 0.797 - ETA: 93s - loss: 0.6315 - acc: 0.798 - ETA: 86s - loss: 0.6300 - acc: 0.80 - ETA: 79s - loss: 0.6269 - acc: 0.80 - ETA: 72s - loss: 0.6248 - acc: 0.80 - ETA: 65s - loss: 0.6264 - acc: 0.80 - ETA: 58s - loss: 0.6245 - acc: 0.80 - ETA: 51s - loss: 0.6211 - acc: 0.80 - ETA: 44s - loss: 0.6183 - acc: 0.80 - ETA: 37s - loss: 0.6187 - acc: 0.80 - ETA: 30s - loss: 0.6200 - acc: 0.80 - ETA: 23s - loss: 0.6222 - acc: 0.80 - ETA: 16s - loss: 0.6238 - acc: 0.80 - ETA: 9s - loss: 0.6236 - acc: 0.8025 - ETA: 2s - loss: 0.6239 - acc: 0.800 - 274s - loss: 0.6229 - acc: 0.8015 - val_loss: 0.6263 - val_acc: 0.7954\n",
      "Epoch 30/30\n",
      "3340/3340 [==============================] - ETA: 273s - loss: 0.5781 - acc: 0.830 - ETA: 254s - loss: 0.5843 - acc: 0.830 - ETA: 238s - loss: 0.5867 - acc: 0.830 - ETA: 229s - loss: 0.5733 - acc: 0.830 - ETA: 220s - loss: 0.5683 - acc: 0.830 - ETA: 213s - loss: 0.5797 - acc: 0.820 - ETA: 204s - loss: 0.5881 - acc: 0.812 - ETA: 195s - loss: 0.5843 - acc: 0.816 - ETA: 187s - loss: 0.5854 - acc: 0.814 - ETA: 180s - loss: 0.5857 - acc: 0.817 - ETA: 174s - loss: 0.5896 - acc: 0.814 - ETA: 167s - loss: 0.5910 - acc: 0.814 - ETA: 159s - loss: 0.5891 - acc: 0.816 - ETA: 151s - loss: 0.5867 - acc: 0.819 - ETA: 142s - loss: 0.5849 - acc: 0.817 - ETA: 134s - loss: 0.5834 - acc: 0.818 - ETA: 126s - loss: 0.5900 - acc: 0.815 - ETA: 117s - loss: 0.6015 - acc: 0.807 - ETA: 109s - loss: 0.6079 - acc: 0.802 - ETA: 102s - loss: 0.6100 - acc: 0.799 - ETA: 94s - loss: 0.6100 - acc: 0.801 - ETA: 86s - loss: 0.6054 - acc: 0.80 - ETA: 79s - loss: 0.6061 - acc: 0.80 - ETA: 71s - loss: 0.6055 - acc: 0.80 - ETA: 64s - loss: 0.6025 - acc: 0.80 - ETA: 57s - loss: 0.5995 - acc: 0.81 - ETA: 49s - loss: 0.5990 - acc: 0.80 - ETA: 41s - loss: 0.5993 - acc: 0.80 - ETA: 34s - loss: 0.5971 - acc: 0.80 - ETA: 26s - loss: 0.5951 - acc: 0.81 - ETA: 18s - loss: 0.5923 - acc: 0.81 - ETA: 10s - loss: 0.5923 - acc: 0.81 - ETA: 3s - loss: 0.5967 - acc: 0.8100 - 298s - loss: 0.5972 - acc: 0.8093 - val_loss: 0.5705 - val_acc: 0.8170\n",
      "1432/1432 [==============================] - ETA: 33 - ETA: 30 - ETA: 28 - ETA: 25 - ETA: 23 - ETA: 22 - ETA: 20 - ETA: 17 - ETA: 14 - ETA: 11 - ETA: 9 - ETA:  - ETA:  - ETA:  - 38s    \n",
      "_________________________________________________________________\n",
      "Layer (type)                 Output Shape              Param #   \n",
      "=================================================================\n",
      "conv2d_1 (Conv2D)            (None, 160, 160, 32)      2432      \n",
      "_________________________________________________________________\n",
      "max_pooling2d_1 (MaxPooling2 (None, 80, 80, 32)        0         \n",
      "_________________________________________________________________\n",
      "conv2d_2 (Conv2D)            (None, 80, 80, 64)        51264     \n",
      "_________________________________________________________________\n",
      "max_pooling2d_2 (MaxPooling2 (None, 40, 40, 64)        0         \n",
      "_________________________________________________________________\n",
      "flatten_1 (Flatten)          (None, 102400)            0         \n",
      "_________________________________________________________________\n"
     ]
    },
    {
     "name": "stdout",
     "output_type": "stream",
     "text": [
      "dense_1 (Dense)              (None, 1024)              104858624 \n",
      "_________________________________________________________________\n",
      "dropout_1 (Dropout)          (None, 1024)              0         \n",
      "_________________________________________________________________\n",
      "dense_2 (Dense)              (None, 1)                 1025      \n",
      "=================================================================\n",
      "Total params: 104,913,345\n",
      "Trainable params: 104,913,345\n",
      "Non-trainable params: 0\n",
      "_________________________________________________________________\n",
      "None\n",
      "[0.57054183819440485, 0.81703910198291585]\n"
     ]
    }
   ],
   "source": [
    "# NN model\n",
    "\n",
    "def nn_model():\n",
    "    model = models.Sequential()\n",
    "    model.add(layers.Conv2D(filters=32,\n",
    "                            kernel_size=(5,5),\n",
    "                            strides=(1,1),\n",
    "                            padding=\"same\",\n",
    "                            activation='relu',\n",
    "                            use_bias=True,\n",
    "                            kernel_regularizer=regularizers.l2(REGULARIZATION_LAMBDA),                            \n",
    "                            input_shape=(IMG_SIZE, IMG_SIZE, CHANNELS),\n",
    "                           ))\n",
    "    model.add(layers.MaxPooling2D(pool_size=(2, 2)))\n",
    "    model.add(layers.Conv2D(filters=64,\n",
    "                            kernel_size=(5,5),\n",
    "                            strides=(1,1),\n",
    "                            padding=\"same\",\n",
    "                            activation='relu',\n",
    "                            use_bias=True,\n",
    "                            kernel_regularizer=regularizers.l2(REGULARIZATION_LAMBDA),                           \n",
    "                           ))\n",
    "    model.add(layers.MaxPooling2D(pool_size=(2, 2)))\n",
    "    model.add(layers.Flatten())\n",
    "    model.add(layers.Dense(NUMBER_OF_NEURONS,\n",
    "                           activation='relu',\n",
    "                           kernel_regularizer=regularizers.l2(REGULARIZATION_LAMBDA),\n",
    "                          ))\n",
    "    model.add(layers.Dropout(0.5))\n",
    "    model.add(layers.Dense(1, activation='sigmoid'))\n",
    "    \n",
    "    optimazier = optimizers.SGD(lr=LEARNING_RATE)\n",
    "    model.compile(optimizer=optimazier,\n",
    "                  loss='binary_crossentropy',\n",
    "                  metrics=['accuracy'])\n",
    "    return model\n",
    "\n",
    "# LOAD SAVED MODEL TO CONTINUE TRAINING\n",
    "model = models.load_model(\"cnn.h5\")\n",
    "\n",
    "# model = nn_model()\n",
    "history = model.fit(x_train, y_train, validation_data=(x_validation, y_validation), verbose=1, epochs=EPOCHS, batch_size=BATCH_SIZE)\n",
    "score = model.evaluate(x_validation, y_validation, batch_size=BATCH_SIZE)\n",
    "print(model.summary())\n"
   ]
  },
  {
   "cell_type": "code",
   "execution_count": 10,
   "metadata": {
    "scrolled": true
   },
   "outputs": [
    {
     "data": {
      "image/png": "[encoded data removed]",
      "text/plain": [
       "<matplotlib.figure.Figure at 0x1bdbe4d5e80>"
      ]
     },
     "metadata": {},
     "output_type": "display_data"
    }
   ],
   "source": [
    "# Plot learning curves for validation and training data during learning\n",
    "show_loss(history)"
   ]
  },
  {
   "cell_type": "code",
   "execution_count": 11,
   "metadata": {
    "collapsed": true
   },
   "outputs": [],
   "source": [
    "# SAVE MODEL TO A FILE\n",
    "model.save(\"cnn.h5\")"
   ]
  }
 ],
 "metadata": {
  "kernelspec": {
   "display_name": "Python 3",
   "language": "python",
   "name": "python3"
  },
  "language_info": {
   "codemirror_mode": {
    "name": "ipython",
    "version": 3
   },
   "file_extension": ".py",
   "mimetype": "text/x-python",
   "name": "python",
   "nbconvert_exporter": "python",
   "pygments_lexer": "ipython3",
   "version": "3.6.1"
  }
 },
 "nbformat": 4,
 "nbformat_minor": 2
}
