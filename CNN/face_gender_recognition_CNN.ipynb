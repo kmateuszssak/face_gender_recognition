{
 "cells": [
  {
   "cell_type": "code",
   "execution_count": 23,
   "metadata": {},
   "outputs": [],
   "source": [
    "import os\n",
    "\n",
    "import numpy as np\n",
    "import pandas as pd\n",
    "import matplotlib\n",
    "import random\n",
    "\n",
    "from matplotlib import pyplot as plt\n",
    "from sklearn import metrics\n",
    "from sklearn.model_selection import KFold, train_test_split\n",
    "from keras import regularizers, optimizers, layers, models\n",
    "from IPython.display import display\n",
    "from PIL import Image\n",
    "from tqdm import tqdm\n",
    "\n",
    "random.seed()\n",
    "\n",
    "%matplotlib inline\n",
    "matplotlib.style.use('ggplot')"
   ]
  },
  {
   "cell_type": "code",
   "execution_count": 24,
   "metadata": {
    "collapsed": true
   },
   "outputs": [],
   "source": [
    "LFW_VS_LFW_DEEPFUNNELED = 'lfw-deepfunneled'\n",
    "INPUT_DATA = 'output_data'\n"
   ]
  },
  {
   "cell_type": "code",
   "execution_count": 25,
   "metadata": {
    "collapsed": true
   },
   "outputs": [],
   "source": [
    "# NN PARAMETERS\n",
    "EPOCHS = 1000\n",
    "BATCH_SIZE = 50\n",
    "LEARNING_RATE = 0.001\n",
    "NUMBER_OF_NEURONS = 8192\n",
    "REGULARIZATION_LAMBDA = 0.1\n",
    "\n",
    "# CONVOLUTION PARAMETERS\n",
    "IMG_SIZE = 250\n",
    "CHANNELS = 3\n",
    "NUM_OF_FEMALES = 1000\n",
    "NUM_OF_MALES = 1000"
   ]
  },
  {
   "cell_type": "code",
   "execution_count": 32,
   "metadata": {
    "collapsed": true
   },
   "outputs": [],
   "source": [
    "def jj(*args):\n",
    "    return os.path.join(*args)\n",
    "\n",
    "def open_image(full_image_name):\n",
    "    return Image.open(full_image_name)\n",
    "\n",
    "def resize(img):\n",
    "    return img.resize((IMG_SIZE, IMG_SIZE), Image.ANTIALIAS)\n",
    "\n",
    "def convert_to_array(img):\n",
    "    return np.array(img, ndmin=CHANNELS)\n",
    "\n",
    "def get_gender_dataset(gender, number_of_imgs):\n",
    "    faces_list = []\n",
    "    for img_name in tqdm(os.listdir(jj(INPUT_DATA, LFW_VS_LFW_DEEPFUNNELED))):\n",
    "        if img_name.startswith(gender):\n",
    "            path = jj(INPUT_DATA, LFW_VS_LFW_DEEPFUNNELED, img_name)\n",
    "            img = open_image(path)\n",
    "            resized_img = resize(img)\n",
    "            array = convert_to_array(resized_img)\n",
    "            faces_list.append((array, 0))\n",
    "        if len(faces_list) == number_of_imgs:\n",
    "            break\n",
    "    random.shuffle(faces_list)\n",
    "\n",
    "    return faces_list\n",
    "\n",
    "def get_dataset():\n",
    "    dataset = []\n",
    "    dataset.extend(get_gender_dataset('f', NUM_OF_FEMALES))\n",
    "    dataset.extend(get_gender_dataset('m', NUM_OF_MALES))\n",
    "    random.shuffle(dataset)\n",
    "    return dataset\n"
   ]
  },
  {
   "cell_type": "code",
   "execution_count": 33,
   "metadata": {},
   "outputs": [
    {
     "name": "stderr",
     "output_type": "stream",
     "text": [
      "  7%|██▊                                  | 990/13233 [00:04<01:57, 104.40it/s]\n",
      " 29%|██████████▎                         | 3788/13233 [00:05<00:19, 488.83it/s]\n"
     ]
    },
    {
     "data": {
      "text/plain": [
       "2000"
      ]
     },
     "execution_count": 33,
     "metadata": {},
     "output_type": "execute_result"
    }
   ],
   "source": [
    "# Create dataset: [(np.array(), np.array()), (...), ...]\n",
    "dataset = get_dataset()\n",
    "len(dataset)\n"
   ]
  }
 ],
 "metadata": {
  "kernelspec": {
   "display_name": "Python 3",
   "language": "python",
   "name": "python3"
  },
  "language_info": {
   "codemirror_mode": {
    "name": "ipython",
    "version": 3
   },
   "file_extension": ".py",
   "mimetype": "text/x-python",
   "name": "python",
   "nbconvert_exporter": "python",
   "pygments_lexer": "ipython3",
   "version": "3.6.1"
  }
 },
 "nbformat": 4,
 "nbformat_minor": 2
}
