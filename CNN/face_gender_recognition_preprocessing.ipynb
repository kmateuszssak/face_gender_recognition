{
 "cells": [
  {
   "cell_type": "code",
   "execution_count": 19,
   "metadata": {
    "collapsed": true
   },
   "outputs": [],
   "source": [
    "import os\n",
    "\n",
    "import numpy as np\n",
    "import pandas as pd\n",
    "import matplotlib.pyplot as plt\n",
    "\n",
    "from PIL import Image\n",
    "from tqdm import tqdm"
   ]
  },
  {
   "cell_type": "code",
   "execution_count": 42,
   "metadata": {
    "collapsed": true
   },
   "outputs": [],
   "source": [
    "LFW_DIR='lfw'\n",
    "LFW_VS_LFW_DEEPFUNNELED = 'lfw-deepfunneled'\n",
    "\n",
    "OUTPUT_DATA = 'output_data'\n"
   ]
  },
  {
   "cell_type": "code",
   "execution_count": 46,
   "metadata": {},
   "outputs": [],
   "source": [
    "def jj(*args):\n",
    "    return os.path.join(*args)\n",
    "\n",
    "def open_image(full_image_name):\n",
    "    return Image.open(full_image_name)\n",
    "            \n",
    "def check_image_size(expected_size, img):\n",
    "    width, height = img.size\n",
    "    if not (width == height == expected_size):\n",
    "        raise Exception\n",
    "\n",
    "def get_labeled_images():\n",
    "    skipped = []\n",
    "    females = []\n",
    "    males = []\n",
    "    with open(jj(LFW_DIR, 'female_names.txt')) as f:\n",
    "        female_names = f.read().splitlines()\n",
    "       \n",
    "    i = 1\n",
    "    for dir_name in tqdm(os.listdir(jj(LFW_DIR, LFW_VS_LFW_DEEPFUNNELED))):\n",
    "        for file_name in os.listdir(jj(LFW_DIR, LFW_VS_LFW_DEEPFUNNELED, dir_name)):\n",
    "            gender = 'f' if file_name in female_names else 'm'\n",
    "            img = open_image(jj(LFW_DIR, LFW_VS_LFW_DEEPFUNNELED, dir_name, file_name))\n",
    "            try:\n",
    "                check_image_size(250, img)\n",
    "            except Exception:\n",
    "                skipped.append(file_name)\n",
    "                continue\n",
    "            else:\n",
    "                new_name = \"{}_{}.jpg\".format(gender, i)\n",
    "                img.save(jj(OUTPUT_DATA, LFW_VS_LFW_DEEPFUNNELED, new_name))\n",
    "                females.append(new_name) if gender == 'f' else males.append(new_name)\n",
    "                i += 1\n",
    "                \n",
    "    print(\"Number of skipped files: {}\".format(len(skipped)))\n",
    "    print(\"Skipped files: {}\".format(skipped))\n",
    "    print(\"Number of females: {}\".format(len(females)))\n",
    "    print(\"Number of males: {}\".format(len(males)))\n"
   ]
  },
  {
   "cell_type": "code",
   "execution_count": 47,
   "metadata": {},
   "outputs": [
    {
     "name": "stderr",
     "output_type": "stream",
     "text": [
      "100%|██████████████████████████████████████| 5749/5749 [01:54<00:00, 59.14it/s]\n"
     ]
    },
    {
     "name": "stdout",
     "output_type": "stream",
     "text": [
      "Number of skipped files: 0\n",
      "Skipped files: []\n",
      "Number of females: 2965\n",
      "Number of males: 10268\n"
     ]
    }
   ],
   "source": [
    "get_labeled_images()"
   ]
  }
 ],
 "metadata": {
  "kernelspec": {
   "display_name": "Python 3",
   "language": "python",
   "name": "python3"
  },
  "language_info": {
   "codemirror_mode": {
    "name": "ipython",
    "version": 3
   },
   "file_extension": ".py",
   "mimetype": "text/x-python",
   "name": "python",
   "nbconvert_exporter": "python",
   "pygments_lexer": "ipython3",
   "version": "3.6.1"
  }
 },
 "nbformat": 4,
 "nbformat_minor": 2
}
